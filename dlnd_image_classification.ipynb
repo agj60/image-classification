{
 "cells": [
  {
   "cell_type": "markdown",
   "metadata": {
    "collapsed": true,
    "deletable": true,
    "editable": true
   },
   "source": [
    "# Image Classification\n",
    "In this project, you'll classify images from the [CIFAR-10 dataset](https://www.cs.toronto.edu/~kriz/cifar.html).  The dataset consists of airplanes, dogs, cats, and other objects. You'll preprocess the images, then train a convolutional neural network on all the samples. The images need to be normalized and the labels need to be one-hot encoded.  You'll get to apply what you learned and build a convolutional, max pooling, dropout, and fully connected layers.  At the end, you'll get to see your neural network's predictions on the sample images.\n",
    "## Get the Data\n",
    "Run the following cell to download the [CIFAR-10 dataset for python](https://www.cs.toronto.edu/~kriz/cifar-10-python.tar.gz)."
   ]
  },
  {
   "cell_type": "code",
   "execution_count": 1,
   "metadata": {
    "collapsed": false,
    "deletable": true,
    "editable": true
   },
   "outputs": [
    {
     "name": "stderr",
     "output_type": "stream",
     "text": [
      "CIFAR-10 Dataset: 171MB [00:19, 8.74MB/s]                              \n"
     ]
    },
    {
     "name": "stdout",
     "output_type": "stream",
     "text": [
      "All files found!\n"
     ]
    }
   ],
   "source": [
    "\"\"\"\n",
    "DON'T MODIFY ANYTHING IN THIS CELL THAT IS BELOW THIS LINE\n",
    "\"\"\"\n",
    "from urllib.request import urlretrieve\n",
    "from os.path import isfile, isdir\n",
    "from tqdm import tqdm\n",
    "import problem_unittests as tests\n",
    "import tarfile\n",
    "\n",
    "cifar10_dataset_folder_path = 'cifar-10-batches-py'\n",
    "\n",
    "class DLProgress(tqdm):\n",
    "    last_block = 0\n",
    "\n",
    "    def hook(self, block_num=1, block_size=1, total_size=None):\n",
    "        self.total = total_size\n",
    "        self.update((block_num - self.last_block) * block_size)\n",
    "        self.last_block = block_num\n",
    "\n",
    "if not isfile('cifar-10-python.tar.gz'):\n",
    "    with DLProgress(unit='B', unit_scale=True, miniters=1, desc='CIFAR-10 Dataset') as pbar:\n",
    "        urlretrieve(\n",
    "            'https://www.cs.toronto.edu/~kriz/cifar-10-python.tar.gz',\n",
    "            'cifar-10-python.tar.gz',\n",
    "            pbar.hook)\n",
    "\n",
    "if not isdir(cifar10_dataset_folder_path):\n",
    "    with tarfile.open('cifar-10-python.tar.gz') as tar:\n",
    "        tar.extractall()\n",
    "        tar.close()\n",
    "\n",
    "\n",
    "tests.test_folder_path(cifar10_dataset_folder_path)"
   ]
  },
  {
   "cell_type": "markdown",
   "metadata": {
    "deletable": true,
    "editable": true
   },
   "source": [
    "## Explore the Data\n",
    "The dataset is broken into batches to prevent your machine from running out of memory.  The CIFAR-10 dataset consists of 5 batches, named `data_batch_1`, `data_batch_2`, etc.. Each batch contains the labels and images that are one of the following:\n",
    "* airplane\n",
    "* automobile\n",
    "* bird\n",
    "* cat\n",
    "* deer\n",
    "* dog\n",
    "* frog\n",
    "* horse\n",
    "* ship\n",
    "* truck\n",
    "\n",
    "Understanding a dataset is part of making predictions on the data.  Play around with the code cell below by changing the `batch_id` and `sample_id`. The `batch_id` is the id for a batch (1-5). The `sample_id` is the id for a image and label pair in the batch.\n",
    "\n",
    "Ask yourself \"What are all possible labels?\", \"What is the range of values for the image data?\", \"Are the labels in order or random?\".  Answers to questions like these will help you preprocess the data and end up with better predictions."
   ]
  },
  {
   "cell_type": "code",
   "execution_count": 2,
   "metadata": {
    "collapsed": false,
    "deletable": true,
    "editable": true
   },
   "outputs": [
    {
     "name": "stdout",
     "output_type": "stream",
     "text": [
      "\n",
      "Stats of batch 1:\n",
      "Samples: 10000\n",
      "Label Counts: {0: 1005, 1: 974, 2: 1032, 3: 1016, 4: 999, 5: 937, 6: 1030, 7: 1001, 8: 1025, 9: 981}\n",
      "First 20 Labels: [6, 9, 9, 4, 1, 1, 2, 7, 8, 3, 4, 7, 7, 2, 9, 9, 9, 3, 2, 6]\n",
      "\n",
      "Example of Image 5:\n",
      "Image - Min Value: 0 Max Value: 252\n",
      "Image - Shape: (32, 32, 3)\n",
      "Label - Label Id: 1 Name: automobile\n"
     ]
    },
    {
     "data": {
      "image/png": "[encoded data removed]",
      "text/plain": [
       "<matplotlib.figure.Figure at 0x7f53b2329a58>"
      ]
     },
     "metadata": {
      "image/png": {
       "height": 250,
       "width": 253
      }
     },
     "output_type": "display_data"
    }
   ],
   "source": [
    "%matplotlib inline\n",
    "%config InlineBackend.figure_format = 'retina'\n",
    "\n",
    "import helper\n",
    "import numpy as np\n",
    "\n",
    "# Explore the dataset\n",
    "batch_id = 1\n",
    "sample_id = 5\n",
    "helper.display_stats(cifar10_dataset_folder_path, batch_id, sample_id)"
   ]
  },
  {
   "cell_type": "markdown",
   "metadata": {
    "deletable": true,
    "editable": true
   },
   "source": [
    "## Implement Preprocess Functions\n",
    "### Normalize\n",
    "In the cell below, implement the `normalize` function to take in image data, `x`, and return it as a normalized Numpy array. The values should be in the range of 0 to 1, inclusive.  The return object should be the same shape as `x`."
   ]
  },
  {
   "cell_type": "code",
   "execution_count": 3,
   "metadata": {
    "collapsed": false,
    "deletable": true,
    "editable": true
   },
   "outputs": [
    {
     "name": "stdout",
     "output_type": "stream",
     "text": [
      "Tests Passed\n"
     ]
    }
   ],
   "source": [
    "def normalize(x):\n",
    "    \"\"\"\n",
    "    Normalize a list of sample image data in the range of 0 to 1\n",
    "    : x: List of image data.  The image shape is (32, 32, 3)\n",
    "    : return: Numpy array of normalize data\n",
    "    \"\"\"\n",
    "    # TODO: Implement Function\n",
    "    return x/255\n",
    "\n",
    "\n",
    "\"\"\"\n",
    "DON'T MODIFY ANYTHING IN THIS CELL THAT IS BELOW THIS LINE\n",
    "\"\"\"\n",
    "tests.test_normalize(normalize)"
   ]
  },
  {
   "cell_type": "markdown",
   "metadata": {
    "deletable": true,
    "editable": true
   },
   "source": [
    "### One-hot encode\n",
    "Just like the previous code cell, you'll be implementing a function for preprocessing.  This time, you'll implement the `one_hot_encode` function. The input, `x`, are a list of labels.  Implement the function to return the list of labels as One-Hot encoded Numpy array.  The possible values for labels are 0 to 9. The one-hot encoding function should return the same encoding for each value between each call to `one_hot_encode`.  Make sure to save the map of encodings outside the function.\n",
    "\n",
    "Hint: Don't reinvent the wheel."
   ]
  },
  {
   "cell_type": "code",
   "execution_count": 4,
   "metadata": {
    "collapsed": false,
    "deletable": true,
    "editable": true
   },
   "outputs": [
    {
     "name": "stdout",
     "output_type": "stream",
     "text": [
      "Tests Passed\n"
     ]
    }
   ],
   "source": [
    "def one_hot_encode(x):\n",
    "    \"\"\"\n",
    "    One hot encode a list of sample labels. Return a one-hot encoded vector for each label.\n",
    "    : x: List of sample Labels\n",
    "    : return: Numpy array of one-hot encoded labels\n",
    "    \"\"\"\n",
    "    # TODO: Implement Function\n",
    "    global labels\n",
    "    n_labels = len(x)\n",
    "    labels = np.array(np.zeros([n_labels,10],dtype=np.int8))\n",
    "    for i in range(n_labels):\n",
    "        labels[i,x[i]]=1\n",
    "    return labels\n",
    "\n",
    "\n",
    "\"\"\"\n",
    "DON'T MODIFY ANYTHING IN THIS CELL THAT IS BELOW THIS LINE\n",
    "\"\"\"\n",
    "tests.test_one_hot_encode(one_hot_encode)"
   ]
  },
  {
   "cell_type": "markdown",
   "metadata": {
    "deletable": true,
    "editable": true
   },
   "source": [
    "### Randomize Data\n",
    "As you saw from exploring the data above, the order of the samples are randomized.  It doesn't hurt to randomize it again, but you don't need to for this dataset."
   ]
  },
  {
   "cell_type": "markdown",
   "metadata": {
    "deletable": true,
    "editable": true
   },
   "source": [
    "## Preprocess all the data and save it\n",
    "Running the code cell below will preprocess all the CIFAR-10 data and save it to file. The code below also uses 10% of the training data for validation."
   ]
  },
  {
   "cell_type": "code",
   "execution_count": 5,
   "metadata": {
    "collapsed": false,
    "deletable": true,
    "editable": true
   },
   "outputs": [],
   "source": [
    "\"\"\"\n",
    "DON'T MODIFY ANYTHING IN THIS CELL\n",
    "\"\"\"\n",
    "# Preprocess Training, Validation, and Testing Data\n",
    "helper.preprocess_and_save_data(cifar10_dataset_folder_path, normalize, one_hot_encode)"
   ]
  },
  {
   "cell_type": "markdown",
   "metadata": {
    "deletable": true,
    "editable": true
   },
   "source": [
    "# Check Point\n",
    "This is your first checkpoint.  If you ever decide to come back to this notebook or have to restart the notebook, you can start from here.  The preprocessed data has been saved to disk."
   ]
  },
  {
   "cell_type": "code",
   "execution_count": 4,
   "metadata": {
    "collapsed": true,
    "deletable": true,
    "editable": true
   },
   "outputs": [],
   "source": [
    "\"\"\"\n",
    "DON'T MODIFY ANYTHING IN THIS CELL\n",
    "\"\"\"\n",
    "import pickle\n",
    "import problem_unittests as tests\n",
    "import helper\n",
    "\n",
    "# Load the Preprocessed Validation data\n",
    "valid_features, valid_labels = pickle.load(open('preprocess_validation.p', mode='rb'))"
   ]
  },
  {
   "cell_type": "markdown",
   "metadata": {
    "deletable": true,
    "editable": true
   },
   "source": [
    "## Build the network\n",
    "For the neural network, you'll build each layer into a function.  Most of the code you've seen has been outside of functions. To test your code more thoroughly, we require that you put each layer in a function.  This allows us to give you better feedback and test for simple mistakes using our unittests before you submit your project.\n",
    "\n",
    "If you're finding it hard to dedicate enough time for this course a week, we've provided a small shortcut to this part of the project. In the next couple of problems, you'll have the option to use [TensorFlow Layers](https://www.tensorflow.org/api_docs/python/tf/layers) or [TensorFlow Layers (contrib)](https://www.tensorflow.org/api_guides/python/contrib.layers) to build each layer, except \"Convolutional & Max Pooling\" layer.  TF Layers is similar to Keras's and TFLearn's abstraction to layers, so it's easy to pickup.\n",
    "\n",
    "If you would like to get the most of this course, try to solve all the problems without TF Layers.  Let's begin!\n",
    "### Input\n",
    "The neural network needs to read the image data, one-hot encoded labels, and dropout keep probability. Implement the following functions\n",
    "* Implement `neural_net_image_input`\n",
    " * Return a [TF Placeholder](https://www.tensorflow.org/api_docs/python/tf/placeholder)\n",
    " * Set the shape using `image_shape` with batch size set to `None`.\n",
    " * Name the TensorFlow placeholder \"x\" using the TensorFlow `name` parameter in the [TF Placeholder](https://www.tensorflow.org/api_docs/python/tf/placeholder).\n",
    "* Implement `neural_net_label_input`\n",
    " * Return a [TF Placeholder](https://www.tensorflow.org/api_docs/python/tf/placeholder)\n",
    " * Set the shape using `n_classes` with batch size set to `None`.\n",
    " * Name the TensorFlow placeholder \"y\" using the TensorFlow `name` parameter in the [TF Placeholder](https://www.tensorflow.org/api_docs/python/tf/placeholder).\n",
    "* Implement `neural_net_keep_prob_input`\n",
    " * Return a [TF Placeholder](https://www.tensorflow.org/api_docs/python/tf/placeholder) for dropout keep probability.\n",
    " * Name the TensorFlow placeholder \"keep_prob\" using the TensorFlow `name` parameter in the [TF Placeholder](https://www.tensorflow.org/api_docs/python/tf/placeholder).\n",
    "\n",
    "These names will be used at the end of the project to load your saved model.\n",
    "\n",
    "Note: `None` for shapes in TensorFlow allow for a dynamic size."
   ]
  },
  {
   "cell_type": "code",
   "execution_count": 5,
   "metadata": {
    "collapsed": false,
    "deletable": true,
    "editable": true
   },
   "outputs": [
    {
     "name": "stdout",
     "output_type": "stream",
     "text": [
      "Image Input Tests Passed.\n",
      "Label Input Tests Passed.\n",
      "Keep Prob Tests Passed.\n"
     ]
    }
   ],
   "source": [
    "import tensorflow as tf\n",
    "\n",
    "def neural_net_image_input(image_shape):\n",
    "    \"\"\"\n",
    "    Return a Tensor for a bach of image input\n",
    "    : image_shape: Shape of the images\n",
    "    : return: Tensor for image input.\n",
    "    \"\"\"\n",
    "    # TODO: Implement Function\n",
    "    return tf.placeholder(tf.float32, shape=[None]+list(image_shape), name=\"x\")\n",
    "\n",
    "\n",
    "def neural_net_label_input(n_classes):\n",
    "    \"\"\"\n",
    "    Return a Tensor for a batch of label input\n",
    "    : n_classes: Number of classes\n",
    "    : return: Tensor for label input.\n",
    "    \"\"\"\n",
    "    # TODO: Implement Function\n",
    "    return tf.placeholder(tf.float32, [None, n_classes], name=\"y\")\n",
    "\n",
    "\n",
    "def neural_net_keep_prob_input():\n",
    "    \"\"\"\n",
    "    Return a Tensor for keep probability\n",
    "    : return: Tensor for keep probability.\n",
    "    \"\"\"\n",
    "    # TODO: Implement Function\n",
    "    return tf.placeholder(tf.float32, name=\"keep_prob\")\n",
    "\n",
    "\n",
    "\n",
    "\n",
    "\"\"\"\n",
    "DON'T MODIFY ANYTHING IN THIS CELL THAT IS BELOW THIS LINE\n",
    "\"\"\"\n",
    "tf.reset_default_graph()\n",
    "tests.test_nn_image_inputs(neural_net_image_input)\n",
    "tests.test_nn_label_inputs(neural_net_label_input)\n",
    "tests.test_nn_keep_prob_inputs(neural_net_keep_prob_input)"
   ]
  },
  {
   "cell_type": "markdown",
   "metadata": {
    "deletable": true,
    "editable": true
   },
   "source": [
    "### Convolution and Max Pooling Layer\n",
    "Convolution layers have a lot of success with images. For this code cell, you should implement the function `conv2d_maxpool` to apply convolution then max pooling:\n",
    "* Create the weight and bias using `conv_ksize`, `conv_num_outputs` and the shape of `x_tensor`.\n",
    "* Apply a convolution to `x_tensor` using weight and `conv_strides`.\n",
    " * We recommend you use same padding, but you're welcome to use any padding.\n",
    "* Add bias\n",
    "* Add a nonlinear activation to the convolution.\n",
    "* Apply Max Pooling using `pool_ksize` and `pool_strides`.\n",
    " * We recommend you use same padding, but you're welcome to use any padding.\n",
    "\n",
    "Note: You **can't** use [TensorFlow Layers](https://www.tensorflow.org/api_docs/python/tf/layers) or [TensorFlow Layers (contrib)](https://www.tensorflow.org/api_guides/python/contrib.layers) for this layer.  You're free to use any TensorFlow package for all the other layers."
   ]
  },
  {
   "cell_type": "code",
   "execution_count": 6,
   "metadata": {
    "collapsed": false,
    "deletable": true,
    "editable": true
   },
   "outputs": [
    {
     "name": "stdout",
     "output_type": "stream",
     "text": [
      "Tests Passed\n"
     ]
    }
   ],
   "source": [
    "def conv2d_maxpool(x_tensor, conv_num_outputs, conv_ksize, conv_strides, pool_ksize, pool_strides):\n",
    "    \"\"\"\n",
    "    Apply convolution then max pooling to x_tensor\n",
    "    :param x_tensor: TensorFlow Tensor\n",
    "    :param conv_num_outputs: Number of outputs for the convolutional layer\n",
    "    :param conv_strides: Stride 2-D Tuple for convolution\n",
    "    :param pool_ksize: kernal size 2-D Tuple for pool\n",
    "    :param pool_strides: Stride 2-D Tuple for pool\n",
    "    : return: A tensor that represents convolution and max pooling of x_tensor\n",
    "    \"\"\"\n",
    "    # TODO: Implement Function\n",
    "    conv_num_in_channels = x_tensor.get_shape()[3].value # Number of input channels\n",
    "    weight = tf.Variable(tf.truncated_normal(\n",
    "        [conv_ksize[0], conv_ksize[1], conv_num_in_channels, conv_num_outputs]\n",
    "         ,stddev=.1))\n",
    "    \n",
    "    bias = tf.Variable(tf.truncated_normal([conv_num_outputs], stddev=.01))\n",
    "    \n",
    "    conv_layer = tf.nn.conv2d(\n",
    "        input = x_tensor, \n",
    "        filter = weight, \n",
    "        strides = [1, conv_strides[0], conv_strides[1], 1], \n",
    "        padding = 'SAME',\n",
    "        use_cudnn_on_gpu = True) # Convolution\n",
    "    conv_layer = tf.nn.bias_add(conv_layer, bias) # Adding Bias\n",
    "    conv_layer = tf.nn.relu(conv_layer) # RELU non-linear activation\n",
    "    conv_layer = tf.nn.max_pool(\n",
    "        conv_layer,\n",
    "        ksize   = [1, pool_ksize[0], pool_ksize[1], 1],\n",
    "        strides = [1, pool_strides[0], pool_strides[1],1],\n",
    "        padding = 'SAME') # Max Pooling\n",
    "    \n",
    "    return conv_layer \n",
    "\n",
    "\n",
    "\"\"\"\n",
    "DON'T MODIFY ANYTHING IN THIS CELL THAT IS BELOW THIS LINE\n",
    "\"\"\"\n",
    "tests.test_con_pool(conv2d_maxpool)"
   ]
  },
  {
   "cell_type": "markdown",
   "metadata": {
    "deletable": true,
    "editable": true
   },
   "source": [
    "### Flatten Layer\n",
    "Implement the `flatten` function to change the dimension of `x_tensor` from a 4-D tensor to a 2-D tensor.  The output should be the shape (*Batch Size*, *Flattened Image Size*). You can use [TensorFlow Layers](https://www.tensorflow.org/api_docs/python/tf/layers) or [TensorFlow Layers (contrib)](https://www.tensorflow.org/api_guides/python/contrib.layers) for this layer."
   ]
  },
  {
   "cell_type": "code",
   "execution_count": 7,
   "metadata": {
    "collapsed": false,
    "deletable": true,
    "editable": true
   },
   "outputs": [
    {
     "name": "stdout",
     "output_type": "stream",
     "text": [
      "Tests Passed\n"
     ]
    }
   ],
   "source": [
    "def flatten(x_tensor):\n",
    "    \"\"\"\n",
    "    Flatten x_tensor to (Batch Size, Flattened Image Size)\n",
    "    : x_tensor: A tensor of size (Batch Size, ...), where ... are the image dimensions.\n",
    "    : return: A tensor of size (Batch Size, Flattened Image Size).\n",
    "    \"\"\"\n",
    "    # TODO: Implement Function\n",
    "\n",
    "    return tf.contrib.layers.flatten(x_tensor)\n",
    "\n",
    "\n",
    "\"\"\"\n",
    "DON'T MODIFY ANYTHING IN THIS CELL THAT IS BELOW THIS LINE\n",
    "\"\"\"\n",
    "tests.test_flatten(flatten)"
   ]
  },
  {
   "cell_type": "markdown",
   "metadata": {
    "deletable": true,
    "editable": true
   },
   "source": [
    "### Fully-Connected Layer\n",
    "Implement the `fully_conn` function to apply a fully connected layer to `x_tensor` with the shape (*Batch Size*, *num_outputs*). You can use [TensorFlow Layers](https://www.tensorflow.org/api_docs/python/tf/layers) or [TensorFlow Layers (contrib)](https://www.tensorflow.org/api_guides/python/contrib.layers) for this layer."
   ]
  },
  {
   "cell_type": "code",
   "execution_count": 8,
   "metadata": {
    "collapsed": false,
    "deletable": true,
    "editable": true
   },
   "outputs": [
    {
     "name": "stdout",
     "output_type": "stream",
     "text": [
      "Tests Passed\n"
     ]
    }
   ],
   "source": [
    "def fully_conn(x_tensor, num_outputs):\n",
    "    \"\"\"\n",
    "    Apply a fully connected layer to x_tensor using weight and bias\n",
    "    : x_tensor: A 2-D tensor where the first dimension is batch size.\n",
    "    : num_outputs: The number of output that the new tensor should be.\n",
    "    : return: A 2-D tensor where the second dimension is num_outputs.\n",
    "    \"\"\"\n",
    "    # TODO: Implement Function\n",
    "    num_inputs = x_tensor.get_shape()[1].value\n",
    "    weight = tf.Variable(tf.truncated_normal([num_inputs, num_outputs]))\n",
    "    bias = tf.Variable(tf.zeros(num_outputs))\n",
    "    layer = tf.add(tf.matmul(x_tensor, weight),bias)\n",
    "    layer = tf.nn.relu(layer)\n",
    "    \n",
    "    return layer\n",
    "\n",
    "\n",
    "\n",
    "\n",
    "\"\"\"\n",
    "DON'T MODIFY ANYTHING IN THIS CELL THAT IS BELOW THIS LINE\n",
    "\"\"\"\n",
    "tests.test_fully_conn(fully_conn)"
   ]
  },
  {
   "cell_type": "markdown",
   "metadata": {
    "deletable": true,
    "editable": true
   },
   "source": [
    "### Output Layer\n",
    "Implement the `output` function to apply a fully connected layer to `x_tensor` with the shape (*Batch Size*, *num_outputs*). You can use [TensorFlow Layers](https://www.tensorflow.org/api_docs/python/tf/layers) or [TensorFlow Layers (contrib)](https://www.tensorflow.org/api_guides/python/contrib.layers) for this layer.\n",
    "\n",
    "Note: Activation, softmax, or cross entropy shouldn't be applied to this."
   ]
  },
  {
   "cell_type": "code",
   "execution_count": 9,
   "metadata": {
    "collapsed": false,
    "deletable": true,
    "editable": true
   },
   "outputs": [
    {
     "name": "stdout",
     "output_type": "stream",
     "text": [
      "Tests Passed\n"
     ]
    }
   ],
   "source": [
    "def output(x_tensor, num_outputs):\n",
    "    \"\"\"\n",
    "    Apply a output layer to x_tensor using weight and bias\n",
    "    : x_tensor: A 2-D tensor where the first dimension is batch size.\n",
    "    : num_outputs: The number of output that the new tensor should be.\n",
    "    : return: A 2-D tensor where the second dimension is num_outputs.\n",
    "    \"\"\"\n",
    "    # TODO: Implement Function\n",
    "    num_inputs = x_tensor.get_shape()[1].value\n",
    "    weight = tf.Variable(tf.truncated_normal([num_inputs, num_outputs]))\n",
    "    bias = tf.Variable(tf.zeros(num_outputs))\n",
    "    logits = tf.add(tf.matmul(x_tensor, weight),bias)\n",
    "    \n",
    "    return logits\n",
    "\n",
    "\n",
    "\"\"\"\n",
    "DON'T MODIFY ANYTHING IN THIS CELL THAT IS BELOW THIS LINE\n",
    "\"\"\"\n",
    "tests.test_output(output)"
   ]
  },
  {
   "cell_type": "markdown",
   "metadata": {
    "deletable": true,
    "editable": true
   },
   "source": [
    "### Create Convolutional Model\n",
    "Implement the function `conv_net` to create a convolutional neural network model. The function takes in a batch of images, `x`, and outputs logits.  Use the layers you created above to create this model:\n",
    "\n",
    "* Apply 1, 2, or 3 Convolution and Max Pool layers\n",
    "* Apply a Flatten Layer\n",
    "* Apply 1, 2, or 3 Fully Connected Layers\n",
    "* Apply an Output Layer\n",
    "* Return the output\n",
    "* Apply [TensorFlow's Dropout](https://www.tensorflow.org/api_docs/python/tf/nn/dropout) to one or more layers in the model using `keep_prob`. "
   ]
  },
  {
   "cell_type": "code",
   "execution_count": 10,
   "metadata": {
    "collapsed": false,
    "deletable": true,
    "editable": true
   },
   "outputs": [
    {
     "name": "stdout",
     "output_type": "stream",
     "text": [
      "Neural Network Built!\n"
     ]
    }
   ],
   "source": [
    "def conv_net(x, keep_prob):\n",
    "    \"\"\"\n",
    "    Create a convolutional neural network model\n",
    "    : x: Placeholder tensor that holds image data.\n",
    "    : keep_prob: Placeholder tensor that hold dropout keep probability.\n",
    "    : return: Tensor that represents logits\n",
    "    \"\"\"\n",
    "    # TODO: Apply 1, 2, or 3 Convolution and Max Pool layers\n",
    "    #    Play around with different number of outputs, kernel size and stride\n",
    "    # Function Definition from Above:\n",
    "    #    conv2d_maxpool(x_tensor, conv_num_outputs, conv_ksize, conv_strides, pool_ksize, pool_strides)\n",
    "    conv_num_outputs = 128\n",
    "    conv_ksize       = (3,3)\n",
    "    conv_strides     = (1,1)\n",
    "    pool_ksize       = (2,2)\n",
    "    pool_strides     = (2,2)\n",
    "    conv = conv2d_maxpool(x, conv_num_outputs, conv_ksize, conv_strides, pool_ksize, pool_strides)\n",
    "    #conv = tf.nn.dropout(conv, keep_prob)\n",
    "    #conv = conv2d_maxpool(conv, conv_num_outputs, conv_ksize, conv_strides, pool_ksize, pool_strides)\n",
    "    #conv = tf.nn.dropout(conv, keep_prob)\n",
    "    #conv = conv2d_maxpool(conv, conv_num_outputs, conv_ksize, conv_strides, pool_ksize, pool_strides)\n",
    "    conv = tf.nn.dropout(conv, keep_prob)\n",
    "\n",
    "    # TODO: Apply a Flatten Layer\n",
    "    # Function Definition from Above:\n",
    "    #   flatten(x_tensor)\n",
    "    flat = flatten(conv)\n",
    "\n",
    "    # TODO: Apply 1, 2, or 3 Fully Connected Layers\n",
    "    #    Play around with different number of outputs\n",
    "    # Function Definition from Above:\n",
    "    #   fully_conn(x_tensor, num_outputs)\n",
    "    fconn = fully_conn(flat, 512)\n",
    "    #fconn = tf.nn.dropout(fconn, keep_prob)\n",
    "    #fconn = fully_conn(fconn, 512)\n",
    "    #fconn = tf.nn.dropout(fconn, keep_prob)\n",
    "    #fconn = fully_conn(fconn, 512)\n",
    "    #fconn = tf.nn.dropout(fconn, keep_prob)\n",
    "    \n",
    "    # TODO: Apply an Output Layer\n",
    "    #    Set this to the number of classes\n",
    "    # Function Definition from Above:\n",
    "    #   output(x_tensor, num_outputs)\n",
    "\n",
    "    out = output(fconn, 10)\n",
    "    \n",
    "    # TODO: return output\n",
    "    return out\n",
    "\n",
    "\n",
    "\"\"\"\n",
    "DON'T MODIFY ANYTHING IN THIS CELL THAT IS BELOW THIS LINE\n",
    "\"\"\"\n",
    "\n",
    "##############################\n",
    "## Build the Neural Network ##\n",
    "##############################\n",
    "\n",
    "# Remove previous weights, bias, inputs, etc..\n",
    "tf.reset_default_graph()\n",
    "\n",
    "# Inputs\n",
    "x = neural_net_image_input((32, 32, 3))\n",
    "y = neural_net_label_input(10)\n",
    "keep_prob = neural_net_keep_prob_input()\n",
    "\n",
    "# Model\n",
    "logits = conv_net(x, keep_prob)\n",
    "\n",
    "# Name logits Tensor, so that is can be loaded from disk after training\n",
    "logits = tf.identity(logits, name='logits')\n",
    "\n",
    "# Loss and Optimizer\n",
    "cost = tf.reduce_mean(tf.nn.softmax_cross_entropy_with_logits(logits=logits, labels=y))\n",
    "optimizer = tf.train.AdamOptimizer().minimize(cost)\n",
    "\n",
    "# Accuracy\n",
    "correct_pred = tf.equal(tf.argmax(logits, 1), tf.argmax(y, 1))\n",
    "accuracy = tf.reduce_mean(tf.cast(correct_pred, tf.float32), name='accuracy')\n",
    "\n",
    "tests.test_conv_net(conv_net)"
   ]
  },
  {
   "cell_type": "markdown",
   "metadata": {
    "deletable": true,
    "editable": true
   },
   "source": [
    "## Train the Neural Network\n",
    "### Single Optimization\n",
    "Implement the function `train_neural_network` to do a single optimization.  The optimization should use `optimizer` to optimize in `session` with a `feed_dict` of the following:\n",
    "* `x` for image input\n",
    "* `y` for labels\n",
    "* `keep_prob` for keep probability for dropout\n",
    "\n",
    "This function will be called for each batch, so `tf.global_variables_initializer()` has already been called.\n",
    "\n",
    "Note: Nothing needs to be returned. This function is only optimizing the neural network."
   ]
  },
  {
   "cell_type": "code",
   "execution_count": 11,
   "metadata": {
    "collapsed": false,
    "deletable": true,
    "editable": true
   },
   "outputs": [
    {
     "name": "stdout",
     "output_type": "stream",
     "text": [
      "Tests Passed\n"
     ]
    }
   ],
   "source": [
    "def train_neural_network(session, optimizer, keep_probability, feature_batch, label_batch):\n",
    "    \"\"\"\n",
    "    Optimize the session on a batch of images and labels\n",
    "    : session: Current TensorFlow session\n",
    "    : optimizer: TensorFlow optimizer function\n",
    "    : keep_probability: keep probability\n",
    "    : feature_batch: Batch of Numpy image data\n",
    "    : label_batch: Batch of Numpy label data\n",
    "    \"\"\"\n",
    "    # TODO: Implement Function\n",
    "    feed_dict = {x: feature_batch, y: label_batch, keep_prob: keep_probability}\n",
    "    session.run(optimizer, feed_dict = feed_dict)\n",
    "    \n",
    "        \n",
    "\n",
    "\n",
    "\"\"\"\n",
    "DON'T MODIFY ANYTHING IN THIS CELL THAT IS BELOW THIS LINE\n",
    "\"\"\"\n",
    "tests.test_train_nn(train_neural_network)"
   ]
  },
  {
   "cell_type": "markdown",
   "metadata": {
    "deletable": true,
    "editable": true
   },
   "source": [
    "### Show Stats\n",
    "Implement the function `print_stats` to print loss and validation accuracy.  Use the global variables `valid_features` and `valid_labels` to calculate validation accuracy.  Use a keep probability of `1.0` to calculate the loss and validation accuracy."
   ]
  },
  {
   "cell_type": "code",
   "execution_count": 12,
   "metadata": {
    "collapsed": false,
    "deletable": true,
    "editable": true
   },
   "outputs": [],
   "source": [
    "def print_stats(session, feature_batch, label_batch, cost, accuracy):\n",
    "    \"\"\"\n",
    "    Print information about loss and validation accuracy\n",
    "    : session: Current TensorFlow session\n",
    "    : feature_batch: Batch of Numpy image data\n",
    "    : label_batch: Batch of Numpy label data\n",
    "    : cost: TensorFlow cost function\n",
    "    : accuracy: TensorFlow accuracy function\n",
    "    \"\"\"\n",
    "    # TODO: Implement Function\n",
    "    feed_dict = {x: feature_batch, y: label_batch, keep_prob: 1.0}\n",
    "    cost, accuracy = session.run([cost, accuracy], feed_dict = feed_dict)\n",
    "    print(' Cost: {0: >10.4f} Accuracy: {1: >6.2f}pct'.format(cost, 100*accuracy))"
   ]
  },
  {
   "cell_type": "markdown",
   "metadata": {
    "deletable": true,
    "editable": true
   },
   "source": [
    "### Hyperparameters\n",
    "Tune the following parameters:\n",
    "* Set `epochs` to the number of iterations until the network stops learning or start overfitting\n",
    "* Set `batch_size` to the highest number that your machine has memory for.  Most people set them to common sizes of memory:\n",
    " * 64\n",
    " * 128\n",
    " * 256\n",
    " * ...\n",
    "* Set `keep_probability` to the probability of keeping a node using dropout"
   ]
  },
  {
   "cell_type": "code",
   "execution_count": 13,
   "metadata": {
    "collapsed": true,
    "deletable": true,
    "editable": true
   },
   "outputs": [],
   "source": [
    "# TODO: Tune Parameters\n",
    "epochs = 50\n",
    "batch_size = 512\n",
    "keep_probability = 0.75"
   ]
  },
  {
   "cell_type": "markdown",
   "metadata": {
    "deletable": true,
    "editable": true
   },
   "source": [
    "### Train on a Single CIFAR-10 Batch\n",
    "Instead of training the neural network on all the CIFAR-10 batches of data, let's use a single batch. This should save time while you iterate on the model to get a better accuracy.  Once the final validation accuracy is 50% or greater, run the model on all the data in the next section."
   ]
  },
  {
   "cell_type": "code",
   "execution_count": 14,
   "metadata": {
    "collapsed": false,
    "deletable": true,
    "editable": true
   },
   "outputs": [
    {
     "name": "stdout",
     "output_type": "stream",
     "text": [
      "Checking the Training on a Single Batch...\n",
      "Epoch  1, CIFAR-10 Batch 1:   Cost:   112.8675 Accuracy:  17.91pct\n",
      "Epoch  2, CIFAR-10 Batch 1:   Cost:    55.1187 Accuracy:  25.00pct\n",
      "Epoch  3, CIFAR-10 Batch 1:   Cost:    32.2058 Accuracy:  27.70pct\n",
      "Epoch  4, CIFAR-10 Batch 1:   Cost:    22.2361 Accuracy:  28.72pct\n",
      "Epoch  5, CIFAR-10 Batch 1:   Cost:    15.8139 Accuracy:  33.11pct\n",
      "Epoch  6, CIFAR-10 Batch 1:   Cost:    11.1473 Accuracy:  35.14pct\n",
      "Epoch  7, CIFAR-10 Batch 1:   Cost:     8.1774 Accuracy:  33.78pct\n",
      "Epoch  8, CIFAR-10 Batch 1:   Cost:     6.5763 Accuracy:  33.45pct\n",
      "Epoch  9, CIFAR-10 Batch 1:   Cost:     5.2973 Accuracy:  34.80pct\n",
      "Epoch 10, CIFAR-10 Batch 1:   Cost:     4.5329 Accuracy:  35.47pct\n",
      "Epoch 11, CIFAR-10 Batch 1:   Cost:     4.0156 Accuracy:  30.74pct\n",
      "Epoch 12, CIFAR-10 Batch 1:   Cost:     3.5304 Accuracy:  32.77pct\n",
      "Epoch 13, CIFAR-10 Batch 1:   Cost:     3.0480 Accuracy:  34.80pct\n",
      "Epoch 14, CIFAR-10 Batch 1:   Cost:     2.8299 Accuracy:  33.45pct\n",
      "Epoch 15, CIFAR-10 Batch 1:   Cost:     2.4692 Accuracy:  35.14pct\n",
      "Epoch 16, CIFAR-10 Batch 1:   Cost:     2.3227 Accuracy:  37.50pct\n",
      "Epoch 17, CIFAR-10 Batch 1:   Cost:     2.1310 Accuracy:  39.86pct\n",
      "Epoch 18, CIFAR-10 Batch 1:   Cost:     2.0368 Accuracy:  40.54pct\n",
      "Epoch 19, CIFAR-10 Batch 1:   Cost:     1.8430 Accuracy:  42.23pct\n",
      "Epoch 20, CIFAR-10 Batch 1:   Cost:     1.7928 Accuracy:  44.59pct\n",
      "Epoch 21, CIFAR-10 Batch 1:   Cost:     1.6872 Accuracy:  44.59pct\n",
      "Epoch 22, CIFAR-10 Batch 1:   Cost:     1.6514 Accuracy:  44.26pct\n",
      "Epoch 23, CIFAR-10 Batch 1:   Cost:     1.5901 Accuracy:  45.61pct\n",
      "Epoch 24, CIFAR-10 Batch 1:   Cost:     1.5441 Accuracy:  44.93pct\n",
      "Epoch 25, CIFAR-10 Batch 1:   Cost:     1.5006 Accuracy:  47.97pct\n",
      "Epoch 26, CIFAR-10 Batch 1:   Cost:     1.4565 Accuracy:  49.66pct\n",
      "Epoch 27, CIFAR-10 Batch 1:   Cost:     1.4336 Accuracy:  51.01pct\n",
      "Epoch 28, CIFAR-10 Batch 1:   Cost:     1.4321 Accuracy:  50.68pct\n",
      "Epoch 29, CIFAR-10 Batch 1:   Cost:     1.3879 Accuracy:  52.03pct\n",
      "Epoch 30, CIFAR-10 Batch 1:   Cost:     1.3629 Accuracy:  53.72pct\n",
      "Epoch 31, CIFAR-10 Batch 1:   Cost:     1.3506 Accuracy:  54.05pct\n",
      "Epoch 32, CIFAR-10 Batch 1:   Cost:     1.2802 Accuracy:  53.72pct\n",
      "Epoch 33, CIFAR-10 Batch 1:   Cost:     1.2961 Accuracy:  53.38pct\n",
      "Epoch 34, CIFAR-10 Batch 1:   Cost:     1.2495 Accuracy:  56.08pct\n",
      "Epoch 35, CIFAR-10 Batch 1:   Cost:     1.2461 Accuracy:  56.76pct\n",
      "Epoch 36, CIFAR-10 Batch 1:   Cost:     1.2304 Accuracy:  56.76pct\n",
      "Epoch 37, CIFAR-10 Batch 1:   Cost:     1.1950 Accuracy:  57.09pct\n",
      "Epoch 38, CIFAR-10 Batch 1:   Cost:     1.1962 Accuracy:  58.11pct\n",
      "Epoch 39, CIFAR-10 Batch 1:   Cost:     1.1572 Accuracy:  59.80pct\n",
      "Epoch 40, CIFAR-10 Batch 1:   Cost:     1.1469 Accuracy:  58.78pct\n",
      "Epoch 41, CIFAR-10 Batch 1:   Cost:     1.1155 Accuracy:  63.85pct\n",
      "Epoch 42, CIFAR-10 Batch 1:   Cost:     1.1075 Accuracy:  58.78pct\n",
      "Epoch 43, CIFAR-10 Batch 1:   Cost:     1.1270 Accuracy:  58.11pct\n",
      "Epoch 44, CIFAR-10 Batch 1:   Cost:     1.0786 Accuracy:  60.81pct\n",
      "Epoch 45, CIFAR-10 Batch 1:   Cost:     1.0814 Accuracy:  60.47pct\n",
      "Epoch 46, CIFAR-10 Batch 1:   Cost:     1.0271 Accuracy:  63.85pct\n",
      "Epoch 47, CIFAR-10 Batch 1:   Cost:     1.0207 Accuracy:  64.86pct\n",
      "Epoch 48, CIFAR-10 Batch 1:   Cost:     0.9935 Accuracy:  65.88pct\n",
      "Epoch 49, CIFAR-10 Batch 1:   Cost:     0.9829 Accuracy:  65.88pct\n",
      "Epoch 50, CIFAR-10 Batch 1:   Cost:     0.9815 Accuracy:  66.55pct\n"
     ]
    }
   ],
   "source": [
    "\"\"\"\n",
    "DON'T MODIFY ANYTHING IN THIS CELL\n",
    "\"\"\"\n",
    "print('Checking the Training on a Single Batch...')\n",
    "with tf.Session() as sess:\n",
    "    # Initializing the variables\n",
    "    sess.run(tf.global_variables_initializer())\n",
    "    \n",
    "    # Training cycle\n",
    "    for epoch in range(epochs):\n",
    "        batch_i = 1\n",
    "        for batch_features, batch_labels in helper.load_preprocess_training_batch(batch_i, batch_size):\n",
    "            train_neural_network(sess, optimizer, keep_probability, batch_features, batch_labels)\n",
    "        print('Epoch {:>2}, CIFAR-10 Batch {}:  '.format(epoch + 1, batch_i), end='')\n",
    "        print_stats(sess, batch_features, batch_labels, cost, accuracy)"
   ]
  },
  {
   "cell_type": "markdown",
   "metadata": {
    "deletable": true,
    "editable": true
   },
   "source": [
    "### Fully Train the Model\n",
    "Now that you got a good accuracy with a single CIFAR-10 batch, try it with all five batches."
   ]
  },
  {
   "cell_type": "code",
   "execution_count": 15,
   "metadata": {
    "collapsed": false,
    "deletable": true,
    "editable": true
   },
   "outputs": [
    {
     "name": "stdout",
     "output_type": "stream",
     "text": [
      "Training...\n",
      "Epoch  1, CIFAR-10 Batch 1:   Cost:   126.8936 Accuracy:  15.20pct\n",
      "Epoch  1, CIFAR-10 Batch 2:   Cost:    53.6383 Accuracy:  26.35pct\n",
      "Epoch  1, CIFAR-10 Batch 3:   Cost:    28.1543 Accuracy:  26.69pct\n",
      "Epoch  1, CIFAR-10 Batch 4:   Cost:    18.1759 Accuracy:  24.66pct\n",
      "Epoch  1, CIFAR-10 Batch 5:   Cost:    13.7273 Accuracy:  27.36pct\n",
      "Epoch  2, CIFAR-10 Batch 1:   Cost:    10.8592 Accuracy:  26.01pct\n",
      "Epoch  2, CIFAR-10 Batch 2:   Cost:     7.4602 Accuracy:  29.73pct\n",
      "Epoch  2, CIFAR-10 Batch 3:   Cost:     5.7162 Accuracy:  25.00pct\n",
      "Epoch  2, CIFAR-10 Batch 4:   Cost:     4.7026 Accuracy:  23.31pct\n",
      "Epoch  2, CIFAR-10 Batch 5:   Cost:     4.5564 Accuracy:  23.99pct\n",
      "Epoch  3, CIFAR-10 Batch 1:   Cost:     3.8031 Accuracy:  22.30pct\n",
      "Epoch  3, CIFAR-10 Batch 2:   Cost:     3.2550 Accuracy:  20.27pct\n",
      "Epoch  3, CIFAR-10 Batch 3:   Cost:     2.6127 Accuracy:  24.66pct\n",
      "Epoch  3, CIFAR-10 Batch 4:   Cost:     2.4759 Accuracy:  21.96pct\n",
      "Epoch  3, CIFAR-10 Batch 5:   Cost:     2.5035 Accuracy:  27.03pct\n",
      "Epoch  4, CIFAR-10 Batch 1:   Cost:     2.4854 Accuracy:  24.32pct\n",
      "Epoch  4, CIFAR-10 Batch 2:   Cost:     2.3503 Accuracy:  19.93pct\n",
      "Epoch  4, CIFAR-10 Batch 3:   Cost:     2.0728 Accuracy:  27.03pct\n",
      "Epoch  4, CIFAR-10 Batch 4:   Cost:     2.1004 Accuracy:  26.35pct\n",
      "Epoch  4, CIFAR-10 Batch 5:   Cost:     2.0961 Accuracy:  30.74pct\n",
      "Epoch  5, CIFAR-10 Batch 1:   Cost:     2.1612 Accuracy:  25.00pct\n",
      "Epoch  5, CIFAR-10 Batch 2:   Cost:     2.1001 Accuracy:  26.35pct\n",
      "Epoch  5, CIFAR-10 Batch 3:   Cost:     1.9740 Accuracy:  28.72pct\n",
      "Epoch  5, CIFAR-10 Batch 4:   Cost:     1.9190 Accuracy:  30.41pct\n",
      "Epoch  5, CIFAR-10 Batch 5:   Cost:     1.9478 Accuracy:  34.12pct\n",
      "Epoch  6, CIFAR-10 Batch 1:   Cost:     2.0054 Accuracy:  30.41pct\n",
      "Epoch  6, CIFAR-10 Batch 2:   Cost:     1.9729 Accuracy:  29.05pct\n",
      "Epoch  6, CIFAR-10 Batch 3:   Cost:     1.8729 Accuracy:  33.78pct\n",
      "Epoch  6, CIFAR-10 Batch 4:   Cost:     1.8475 Accuracy:  31.08pct\n",
      "Epoch  6, CIFAR-10 Batch 5:   Cost:     1.8484 Accuracy:  37.16pct\n",
      "Epoch  7, CIFAR-10 Batch 1:   Cost:     1.9457 Accuracy:  30.07pct\n",
      "Epoch  7, CIFAR-10 Batch 2:   Cost:     1.8812 Accuracy:  32.77pct\n",
      "Epoch  7, CIFAR-10 Batch 3:   Cost:     1.7859 Accuracy:  39.19pct\n",
      "Epoch  7, CIFAR-10 Batch 4:   Cost:     1.7680 Accuracy:  32.09pct\n",
      "Epoch  7, CIFAR-10 Batch 5:   Cost:     1.7895 Accuracy:  35.47pct\n",
      "Epoch  8, CIFAR-10 Batch 1:   Cost:     1.8674 Accuracy:  33.45pct\n",
      "Epoch  8, CIFAR-10 Batch 2:   Cost:     1.7997 Accuracy:  34.46pct\n",
      "Epoch  8, CIFAR-10 Batch 3:   Cost:     1.7178 Accuracy:  41.89pct\n",
      "Epoch  8, CIFAR-10 Batch 4:   Cost:     1.7443 Accuracy:  34.80pct\n",
      "Epoch  8, CIFAR-10 Batch 5:   Cost:     1.7576 Accuracy:  35.47pct\n",
      "Epoch  9, CIFAR-10 Batch 1:   Cost:     1.8015 Accuracy:  33.11pct\n",
      "Epoch  9, CIFAR-10 Batch 2:   Cost:     1.7965 Accuracy:  33.11pct\n",
      "Epoch  9, CIFAR-10 Batch 3:   Cost:     1.6693 Accuracy:  44.26pct\n",
      "Epoch  9, CIFAR-10 Batch 4:   Cost:     1.6976 Accuracy:  35.81pct\n",
      "Epoch  9, CIFAR-10 Batch 5:   Cost:     1.7166 Accuracy:  37.50pct\n",
      "Epoch 10, CIFAR-10 Batch 1:   Cost:     1.7542 Accuracy:  35.14pct\n",
      "Epoch 10, CIFAR-10 Batch 2:   Cost:     1.7984 Accuracy:  32.09pct\n",
      "Epoch 10, CIFAR-10 Batch 3:   Cost:     1.6772 Accuracy:  43.92pct\n",
      "Epoch 10, CIFAR-10 Batch 4:   Cost:     1.6355 Accuracy:  37.16pct\n",
      "Epoch 10, CIFAR-10 Batch 5:   Cost:     1.7041 Accuracy:  39.19pct\n",
      "Epoch 11, CIFAR-10 Batch 1:   Cost:     1.7576 Accuracy:  37.16pct\n",
      "Epoch 11, CIFAR-10 Batch 2:   Cost:     1.7946 Accuracy:  32.09pct\n",
      "Epoch 11, CIFAR-10 Batch 3:   Cost:     1.6349 Accuracy:  45.27pct\n",
      "Epoch 11, CIFAR-10 Batch 4:   Cost:     1.6131 Accuracy:  38.18pct\n",
      "Epoch 11, CIFAR-10 Batch 5:   Cost:     1.6814 Accuracy:  40.54pct\n",
      "Epoch 12, CIFAR-10 Batch 1:   Cost:     1.6988 Accuracy:  35.81pct\n",
      "Epoch 12, CIFAR-10 Batch 2:   Cost:     1.7211 Accuracy:  34.12pct\n",
      "Epoch 12, CIFAR-10 Batch 3:   Cost:     1.5823 Accuracy:  44.59pct\n",
      "Epoch 12, CIFAR-10 Batch 4:   Cost:     1.5618 Accuracy:  43.58pct\n",
      "Epoch 12, CIFAR-10 Batch 5:   Cost:     1.6255 Accuracy:  41.89pct\n",
      "Epoch 13, CIFAR-10 Batch 1:   Cost:     1.6666 Accuracy:  39.19pct\n",
      "Epoch 13, CIFAR-10 Batch 2:   Cost:     1.6228 Accuracy:  43.92pct\n",
      "Epoch 13, CIFAR-10 Batch 3:   Cost:     1.6187 Accuracy:  45.27pct\n",
      "Epoch 13, CIFAR-10 Batch 4:   Cost:     1.5495 Accuracy:  43.58pct\n",
      "Epoch 13, CIFAR-10 Batch 5:   Cost:     1.6266 Accuracy:  42.91pct\n",
      "Epoch 14, CIFAR-10 Batch 1:   Cost:     1.6600 Accuracy:  39.53pct\n",
      "Epoch 14, CIFAR-10 Batch 2:   Cost:     1.6237 Accuracy:  39.19pct\n",
      "Epoch 14, CIFAR-10 Batch 3:   Cost:     1.6090 Accuracy:  45.95pct\n",
      "Epoch 14, CIFAR-10 Batch 4:   Cost:     1.4944 Accuracy:  44.26pct\n",
      "Epoch 14, CIFAR-10 Batch 5:   Cost:     1.5793 Accuracy:  44.26pct\n",
      "Epoch 15, CIFAR-10 Batch 1:   Cost:     1.6149 Accuracy:  41.89pct\n",
      "Epoch 15, CIFAR-10 Batch 2:   Cost:     1.5293 Accuracy:  45.95pct\n",
      "Epoch 15, CIFAR-10 Batch 3:   Cost:     1.5128 Accuracy:  47.30pct\n",
      "Epoch 15, CIFAR-10 Batch 4:   Cost:     1.4775 Accuracy:  46.62pct\n",
      "Epoch 15, CIFAR-10 Batch 5:   Cost:     1.5444 Accuracy:  45.95pct\n",
      "Epoch 16, CIFAR-10 Batch 1:   Cost:     1.5897 Accuracy:  42.91pct\n",
      "Epoch 16, CIFAR-10 Batch 2:   Cost:     1.4838 Accuracy:  47.30pct\n",
      "Epoch 16, CIFAR-10 Batch 3:   Cost:     1.4691 Accuracy:  50.00pct\n",
      "Epoch 16, CIFAR-10 Batch 4:   Cost:     1.4242 Accuracy:  47.64pct\n",
      "Epoch 16, CIFAR-10 Batch 5:   Cost:     1.4744 Accuracy:  47.64pct\n",
      "Epoch 17, CIFAR-10 Batch 1:   Cost:     1.5155 Accuracy:  46.62pct\n",
      "Epoch 17, CIFAR-10 Batch 2:   Cost:     1.4714 Accuracy:  47.97pct\n",
      "Epoch 17, CIFAR-10 Batch 3:   Cost:     1.3904 Accuracy:  51.35pct\n",
      "Epoch 17, CIFAR-10 Batch 4:   Cost:     1.3741 Accuracy:  50.34pct\n",
      "Epoch 17, CIFAR-10 Batch 5:   Cost:     1.4762 Accuracy:  51.69pct\n",
      "Epoch 18, CIFAR-10 Batch 1:   Cost:     1.4937 Accuracy:  46.28pct\n",
      "Epoch 18, CIFAR-10 Batch 2:   Cost:     1.4266 Accuracy:  48.31pct\n",
      "Epoch 18, CIFAR-10 Batch 3:   Cost:     1.3861 Accuracy:  51.35pct\n",
      "Epoch 18, CIFAR-10 Batch 4:   Cost:     1.3532 Accuracy:  51.01pct\n",
      "Epoch 18, CIFAR-10 Batch 5:   Cost:     1.4541 Accuracy:  47.97pct\n",
      "Epoch 19, CIFAR-10 Batch 1:   Cost:     1.4279 Accuracy:  51.01pct\n",
      "Epoch 19, CIFAR-10 Batch 2:   Cost:     1.3936 Accuracy:  51.69pct\n",
      "Epoch 19, CIFAR-10 Batch 3:   Cost:     1.3319 Accuracy:  53.38pct\n",
      "Epoch 19, CIFAR-10 Batch 4:   Cost:     1.3014 Accuracy:  55.41pct\n",
      "Epoch 19, CIFAR-10 Batch 5:   Cost:     1.3603 Accuracy:  52.70pct\n",
      "Epoch 20, CIFAR-10 Batch 1:   Cost:     1.4192 Accuracy:  53.38pct\n",
      "Epoch 20, CIFAR-10 Batch 2:   Cost:     1.3705 Accuracy:  51.01pct\n",
      "Epoch 20, CIFAR-10 Batch 3:   Cost:     1.3176 Accuracy:  56.42pct\n",
      "Epoch 20, CIFAR-10 Batch 4:   Cost:     1.3106 Accuracy:  53.04pct\n",
      "Epoch 20, CIFAR-10 Batch 5:   Cost:     1.3840 Accuracy:  51.35pct\n",
      "Epoch 21, CIFAR-10 Batch 1:   Cost:     1.3679 Accuracy:  57.09pct\n",
      "Epoch 21, CIFAR-10 Batch 2:   Cost:     1.3239 Accuracy:  54.05pct\n",
      "Epoch 21, CIFAR-10 Batch 3:   Cost:     1.2792 Accuracy:  56.08pct\n",
      "Epoch 21, CIFAR-10 Batch 4:   Cost:     1.2962 Accuracy:  54.39pct\n",
      "Epoch 21, CIFAR-10 Batch 5:   Cost:     1.3634 Accuracy:  54.73pct\n",
      "Epoch 22, CIFAR-10 Batch 1:   Cost:     1.3617 Accuracy:  55.41pct\n",
      "Epoch 22, CIFAR-10 Batch 2:   Cost:     1.3233 Accuracy:  53.72pct\n",
      "Epoch 22, CIFAR-10 Batch 3:   Cost:     1.2279 Accuracy:  56.42pct\n",
      "Epoch 22, CIFAR-10 Batch 4:   Cost:     1.1972 Accuracy:  59.46pct\n",
      "Epoch 22, CIFAR-10 Batch 5:   Cost:     1.2719 Accuracy:  54.39pct\n",
      "Epoch 23, CIFAR-10 Batch 1:   Cost:     1.2906 Accuracy:  59.46pct\n",
      "Epoch 23, CIFAR-10 Batch 2:   Cost:     1.3492 Accuracy:  54.05pct\n",
      "Epoch 23, CIFAR-10 Batch 3:   Cost:     1.2112 Accuracy:  58.45pct\n",
      "Epoch 23, CIFAR-10 Batch 4:   Cost:     1.2163 Accuracy:  57.43pct\n",
      "Epoch 23, CIFAR-10 Batch 5:   Cost:     1.2381 Accuracy:  57.43pct\n",
      "Epoch 24, CIFAR-10 Batch 1:   Cost:     1.2603 Accuracy:  58.45pct\n",
      "Epoch 24, CIFAR-10 Batch 2:   Cost:     1.2791 Accuracy:  53.72pct\n",
      "Epoch 24, CIFAR-10 Batch 3:   Cost:     1.1691 Accuracy:  59.12pct\n",
      "Epoch 24, CIFAR-10 Batch 4:   Cost:     1.1835 Accuracy:  61.82pct\n",
      "Epoch 24, CIFAR-10 Batch 5:   Cost:     1.2275 Accuracy:  59.80pct\n",
      "Epoch 25, CIFAR-10 Batch 1:   Cost:     1.2329 Accuracy:  59.12pct\n",
      "Epoch 25, CIFAR-10 Batch 2:   Cost:     1.2295 Accuracy:  58.78pct\n",
      "Epoch 25, CIFAR-10 Batch 3:   Cost:     1.1663 Accuracy:  58.78pct\n",
      "Epoch 25, CIFAR-10 Batch 4:   Cost:     1.1298 Accuracy:  61.49pct\n",
      "Epoch 25, CIFAR-10 Batch 5:   Cost:     1.1977 Accuracy:  57.77pct\n",
      "Epoch 26, CIFAR-10 Batch 1:   Cost:     1.2015 Accuracy:  60.14pct\n",
      "Epoch 26, CIFAR-10 Batch 2:   Cost:     1.2503 Accuracy:  59.46pct\n",
      "Epoch 26, CIFAR-10 Batch 3:   Cost:     1.1300 Accuracy:  58.45pct\n",
      "Epoch 26, CIFAR-10 Batch 4:   Cost:     1.1071 Accuracy:  60.81pct\n",
      "Epoch 26, CIFAR-10 Batch 5:   Cost:     1.1607 Accuracy:  60.81pct\n",
      "Epoch 27, CIFAR-10 Batch 1:   Cost:     1.1977 Accuracy:  61.82pct\n",
      "Epoch 27, CIFAR-10 Batch 2:   Cost:     1.1895 Accuracy:  60.81pct\n",
      "Epoch 27, CIFAR-10 Batch 3:   Cost:     1.0942 Accuracy:  60.47pct\n",
      "Epoch 27, CIFAR-10 Batch 4:   Cost:     1.0889 Accuracy:  63.18pct\n",
      "Epoch 27, CIFAR-10 Batch 5:   Cost:     1.1356 Accuracy:  60.14pct\n",
      "Epoch 28, CIFAR-10 Batch 1:   Cost:     1.1382 Accuracy:  63.85pct\n",
      "Epoch 28, CIFAR-10 Batch 2:   Cost:     1.1774 Accuracy:  62.16pct\n",
      "Epoch 28, CIFAR-10 Batch 3:   Cost:     1.0758 Accuracy:  62.50pct\n",
      "Epoch 28, CIFAR-10 Batch 4:   Cost:     1.0892 Accuracy:  60.47pct\n",
      "Epoch 28, CIFAR-10 Batch 5:   Cost:     1.1099 Accuracy:  61.15pct\n",
      "Epoch 29, CIFAR-10 Batch 1:   Cost:     1.1658 Accuracy:  63.18pct\n",
      "Epoch 29, CIFAR-10 Batch 2:   Cost:     1.1497 Accuracy:  62.84pct\n",
      "Epoch 29, CIFAR-10 Batch 3:   Cost:     1.0511 Accuracy:  63.85pct\n",
      "Epoch 29, CIFAR-10 Batch 4:   Cost:     1.0522 Accuracy:  63.51pct\n",
      "Epoch 29, CIFAR-10 Batch 5:   Cost:     1.1113 Accuracy:  60.47pct\n",
      "Epoch 30, CIFAR-10 Batch 1:   Cost:     1.1200 Accuracy:  65.54pct\n",
      "Epoch 30, CIFAR-10 Batch 2:   Cost:     1.1256 Accuracy:  63.51pct\n",
      "Epoch 30, CIFAR-10 Batch 3:   Cost:     1.0360 Accuracy:  64.19pct\n",
      "Epoch 30, CIFAR-10 Batch 4:   Cost:     1.0134 Accuracy:  63.85pct\n",
      "Epoch 30, CIFAR-10 Batch 5:   Cost:     1.0618 Accuracy:  63.51pct\n",
      "Epoch 31, CIFAR-10 Batch 1:   Cost:     1.0679 Accuracy:  64.86pct\n",
      "Epoch 31, CIFAR-10 Batch 2:   Cost:     1.1104 Accuracy:  63.18pct\n",
      "Epoch 31, CIFAR-10 Batch 3:   Cost:     1.0046 Accuracy:  66.89pct\n",
      "Epoch 31, CIFAR-10 Batch 4:   Cost:     1.0138 Accuracy:  62.84pct\n",
      "Epoch 31, CIFAR-10 Batch 5:   Cost:     1.0543 Accuracy:  62.84pct\n",
      "Epoch 32, CIFAR-10 Batch 1:   Cost:     1.0770 Accuracy:  65.20pct\n",
      "Epoch 32, CIFAR-10 Batch 2:   Cost:     1.1342 Accuracy:  63.85pct\n",
      "Epoch 32, CIFAR-10 Batch 3:   Cost:     0.9847 Accuracy:  66.89pct\n",
      "Epoch 32, CIFAR-10 Batch 4:   Cost:     1.0041 Accuracy:  64.86pct\n",
      "Epoch 32, CIFAR-10 Batch 5:   Cost:     1.0207 Accuracy:  65.20pct\n",
      "Epoch 33, CIFAR-10 Batch 1:   Cost:     1.0231 Accuracy:  69.26pct\n",
      "Epoch 33, CIFAR-10 Batch 2:   Cost:     1.0421 Accuracy:  66.22pct\n",
      "Epoch 33, CIFAR-10 Batch 3:   Cost:     0.9703 Accuracy:  65.88pct\n",
      "Epoch 33, CIFAR-10 Batch 4:   Cost:     0.9607 Accuracy:  64.53pct\n",
      "Epoch 33, CIFAR-10 Batch 5:   Cost:     1.0031 Accuracy:  64.19pct\n",
      "Epoch 34, CIFAR-10 Batch 1:   Cost:     1.0145 Accuracy:  68.24pct\n",
      "Epoch 34, CIFAR-10 Batch 2:   Cost:     1.0126 Accuracy:  63.85pct\n",
      "Epoch 34, CIFAR-10 Batch 3:   Cost:     0.9571 Accuracy:  67.23pct\n",
      "Epoch 34, CIFAR-10 Batch 4:   Cost:     0.9459 Accuracy:  67.57pct\n",
      "Epoch 34, CIFAR-10 Batch 5:   Cost:     0.9886 Accuracy:  64.19pct\n",
      "Epoch 35, CIFAR-10 Batch 1:   Cost:     1.0160 Accuracy:  67.91pct\n",
      "Epoch 35, CIFAR-10 Batch 2:   Cost:     1.0297 Accuracy:  65.54pct\n",
      "Epoch 35, CIFAR-10 Batch 3:   Cost:     0.9380 Accuracy:  67.91pct\n",
      "Epoch 35, CIFAR-10 Batch 4:   Cost:     0.9247 Accuracy:  68.92pct\n",
      "Epoch 35, CIFAR-10 Batch 5:   Cost:     0.9595 Accuracy:  66.55pct\n",
      "Epoch 36, CIFAR-10 Batch 1:   Cost:     0.9844 Accuracy:  69.59pct\n",
      "Epoch 36, CIFAR-10 Batch 2:   Cost:     0.9832 Accuracy:  67.57pct\n",
      "Epoch 36, CIFAR-10 Batch 3:   Cost:     0.9347 Accuracy:  68.24pct\n",
      "Epoch 36, CIFAR-10 Batch 4:   Cost:     0.8898 Accuracy:  71.62pct\n",
      "Epoch 36, CIFAR-10 Batch 5:   Cost:     0.9443 Accuracy:  64.53pct\n",
      "Epoch 37, CIFAR-10 Batch 1:   Cost:     0.9923 Accuracy:  67.23pct\n",
      "Epoch 37, CIFAR-10 Batch 2:   Cost:     1.0000 Accuracy:  66.89pct\n",
      "Epoch 37, CIFAR-10 Batch 3:   Cost:     0.9097 Accuracy:  68.24pct\n",
      "Epoch 37, CIFAR-10 Batch 4:   Cost:     0.8801 Accuracy:  69.93pct\n",
      "Epoch 37, CIFAR-10 Batch 5:   Cost:     0.9244 Accuracy:  66.55pct\n",
      "Epoch 38, CIFAR-10 Batch 1:   Cost:     0.9579 Accuracy:  69.26pct\n",
      "Epoch 38, CIFAR-10 Batch 2:   Cost:     0.9554 Accuracy:  69.93pct\n",
      "Epoch 38, CIFAR-10 Batch 3:   Cost:     0.8916 Accuracy:  70.95pct\n",
      "Epoch 38, CIFAR-10 Batch 4:   Cost:     0.8646 Accuracy:  72.64pct\n",
      "Epoch 38, CIFAR-10 Batch 5:   Cost:     0.9130 Accuracy:  67.23pct\n",
      "Epoch 39, CIFAR-10 Batch 1:   Cost:     0.9400 Accuracy:  70.27pct\n",
      "Epoch 39, CIFAR-10 Batch 2:   Cost:     0.9181 Accuracy:  69.93pct\n",
      "Epoch 39, CIFAR-10 Batch 3:   Cost:     0.8906 Accuracy:  70.95pct\n",
      "Epoch 39, CIFAR-10 Batch 4:   Cost:     0.8255 Accuracy:  73.65pct\n",
      "Epoch 39, CIFAR-10 Batch 5:   Cost:     0.8907 Accuracy:  67.57pct\n",
      "Epoch 40, CIFAR-10 Batch 1:   Cost:     0.9194 Accuracy:  69.93pct\n",
      "Epoch 40, CIFAR-10 Batch 2:   Cost:     0.9249 Accuracy:  69.93pct\n",
      "Epoch 40, CIFAR-10 Batch 3:   Cost:     0.8716 Accuracy:  70.61pct\n",
      "Epoch 40, CIFAR-10 Batch 4:   Cost:     0.8272 Accuracy:  75.00pct\n",
      "Epoch 40, CIFAR-10 Batch 5:   Cost:     0.9013 Accuracy:  68.24pct\n",
      "Epoch 41, CIFAR-10 Batch 1:   Cost:     0.9089 Accuracy:  71.28pct\n",
      "Epoch 41, CIFAR-10 Batch 2:   Cost:     0.8807 Accuracy:  71.28pct\n",
      "Epoch 41, CIFAR-10 Batch 3:   Cost:     0.8426 Accuracy:  73.99pct\n",
      "Epoch 41, CIFAR-10 Batch 4:   Cost:     0.8196 Accuracy:  73.65pct\n",
      "Epoch 41, CIFAR-10 Batch 5:   Cost:     0.8634 Accuracy:  68.58pct\n",
      "Epoch 42, CIFAR-10 Batch 1:   Cost:     0.8989 Accuracy:  70.95pct\n",
      "Epoch 42, CIFAR-10 Batch 2:   Cost:     0.8648 Accuracy:  69.93pct\n",
      "Epoch 42, CIFAR-10 Batch 3:   Cost:     0.7931 Accuracy:  75.34pct\n",
      "Epoch 42, CIFAR-10 Batch 4:   Cost:     0.7987 Accuracy:  72.97pct\n",
      "Epoch 42, CIFAR-10 Batch 5:   Cost:     0.8334 Accuracy:  70.95pct\n",
      "Epoch 43, CIFAR-10 Batch 1:   Cost:     0.8699 Accuracy:  71.96pct\n",
      "Epoch 43, CIFAR-10 Batch 2:   Cost:     0.8238 Accuracy:  72.97pct\n",
      "Epoch 43, CIFAR-10 Batch 3:   Cost:     0.7917 Accuracy:  75.68pct\n",
      "Epoch 43, CIFAR-10 Batch 4:   Cost:     0.7863 Accuracy:  75.00pct\n",
      "Epoch 43, CIFAR-10 Batch 5:   Cost:     0.8273 Accuracy:  69.93pct\n",
      "Epoch 44, CIFAR-10 Batch 1:   Cost:     0.8450 Accuracy:  71.96pct\n",
      "Epoch 44, CIFAR-10 Batch 2:   Cost:     0.8191 Accuracy:  73.31pct\n",
      "Epoch 44, CIFAR-10 Batch 3:   Cost:     0.8271 Accuracy:  72.97pct\n",
      "Epoch 44, CIFAR-10 Batch 4:   Cost:     0.7521 Accuracy:  76.01pct\n",
      "Epoch 44, CIFAR-10 Batch 5:   Cost:     0.8000 Accuracy:  72.30pct\n",
      "Epoch 45, CIFAR-10 Batch 1:   Cost:     0.8713 Accuracy:  71.28pct\n",
      "Epoch 45, CIFAR-10 Batch 2:   Cost:     0.7948 Accuracy:  74.32pct\n",
      "Epoch 45, CIFAR-10 Batch 3:   Cost:     0.7687 Accuracy:  76.01pct\n",
      "Epoch 45, CIFAR-10 Batch 4:   Cost:     0.7466 Accuracy:  76.35pct\n",
      "Epoch 45, CIFAR-10 Batch 5:   Cost:     0.7858 Accuracy:  71.96pct\n",
      "Epoch 46, CIFAR-10 Batch 1:   Cost:     0.8439 Accuracy:  72.64pct\n",
      "Epoch 46, CIFAR-10 Batch 2:   Cost:     0.7610 Accuracy:  76.69pct\n",
      "Epoch 46, CIFAR-10 Batch 3:   Cost:     0.7688 Accuracy:  73.65pct\n",
      "Epoch 46, CIFAR-10 Batch 4:   Cost:     0.7325 Accuracy:  76.35pct\n",
      "Epoch 46, CIFAR-10 Batch 5:   Cost:     0.7640 Accuracy:  71.96pct\n",
      "Epoch 47, CIFAR-10 Batch 1:   Cost:     0.8343 Accuracy:  74.66pct\n",
      "Epoch 47, CIFAR-10 Batch 2:   Cost:     0.7389 Accuracy:  75.00pct\n",
      "Epoch 47, CIFAR-10 Batch 3:   Cost:     0.7665 Accuracy:  75.00pct\n",
      "Epoch 47, CIFAR-10 Batch 4:   Cost:     0.7304 Accuracy:  76.69pct\n",
      "Epoch 47, CIFAR-10 Batch 5:   Cost:     0.7712 Accuracy:  70.95pct\n",
      "Epoch 48, CIFAR-10 Batch 1:   Cost:     0.8075 Accuracy:  74.66pct\n",
      "Epoch 48, CIFAR-10 Batch 2:   Cost:     0.7263 Accuracy:  75.68pct\n",
      "Epoch 48, CIFAR-10 Batch 3:   Cost:     0.7247 Accuracy:  76.69pct\n",
      "Epoch 48, CIFAR-10 Batch 4:   Cost:     0.6910 Accuracy:  78.04pct\n",
      "Epoch 48, CIFAR-10 Batch 5:   Cost:     0.7273 Accuracy:  73.99pct\n",
      "Epoch 49, CIFAR-10 Batch 1:   Cost:     0.8171 Accuracy:  72.97pct\n",
      "Epoch 49, CIFAR-10 Batch 2:   Cost:     0.7064 Accuracy:  78.04pct\n",
      "Epoch 49, CIFAR-10 Batch 3:   Cost:     0.7275 Accuracy:  77.36pct\n",
      "Epoch 49, CIFAR-10 Batch 4:   Cost:     0.6846 Accuracy:  77.70pct\n",
      "Epoch 49, CIFAR-10 Batch 5:   Cost:     0.7198 Accuracy:  74.32pct\n",
      "Epoch 50, CIFAR-10 Batch 1:   Cost:     0.8243 Accuracy:  75.68pct\n",
      "Epoch 50, CIFAR-10 Batch 2:   Cost:     0.6878 Accuracy:  79.05pct\n",
      "Epoch 50, CIFAR-10 Batch 3:   Cost:     0.6939 Accuracy:  78.38pct\n",
      "Epoch 50, CIFAR-10 Batch 4:   Cost:     0.6660 Accuracy:  78.04pct\n",
      "Epoch 50, CIFAR-10 Batch 5:   Cost:     0.7123 Accuracy:  73.99pct\n"
     ]
    }
   ],
   "source": [
    "\"\"\"\n",
    "DON'T MODIFY ANYTHING IN THIS CELL\n",
    "\"\"\"\n",
    "save_model_path = './image_classification'\n",
    "\n",
    "print('Training...')\n",
    "with tf.Session() as sess:\n",
    "    # Initializing the variables\n",
    "    sess.run(tf.global_variables_initializer())\n",
    "    \n",
    "    # Training cycle\n",
    "    for epoch in range(epochs):\n",
    "        # Loop over all batches\n",
    "        n_batches = 5\n",
    "        for batch_i in range(1, n_batches + 1):\n",
    "            for batch_features, batch_labels in helper.load_preprocess_training_batch(batch_i, batch_size):\n",
    "                train_neural_network(sess, optimizer, keep_probability, batch_features, batch_labels)\n",
    "            print('Epoch {:>2}, CIFAR-10 Batch {}:  '.format(epoch + 1, batch_i), end='')\n",
    "            print_stats(sess, batch_features, batch_labels, cost, accuracy)\n",
    "            \n",
    "    # Save Model\n",
    "    saver = tf.train.Saver()\n",
    "    save_path = saver.save(sess, save_model_path)"
   ]
  },
  {
   "cell_type": "markdown",
   "metadata": {
    "deletable": true,
    "editable": true
   },
   "source": [
    "# Checkpoint\n",
    "The model has been saved to disk.\n",
    "## Test Model\n",
    "Test your model against the test dataset.  This will be your final accuracy. You should have an accuracy greater than 50%. If you don't, keep tweaking the model architecture and parameters."
   ]
  },
  {
   "cell_type": "code",
   "execution_count": 16,
   "metadata": {
    "collapsed": false,
    "deletable": true,
    "editable": true
   },
   "outputs": [
    {
     "name": "stdout",
     "output_type": "stream",
     "text": [
      "Testing Accuracy:  52.35pct\n",
      "\n"
     ]
    },
    {
     "data": {
      "image/png": "[encoded data removed]",
      "text/plain": [
       "<matplotlib.figure.Figure at 0x7f48ee6ac080>"
      ]
     },
     "metadata": {
      "image/png": {
       "height": 319,
       "width": 355
      }
     },
     "output_type": "display_data"
    }
   ],
   "source": [
    "\"\"\"\n",
    "DON'T MODIFY ANYTHING IN THIS CELL\n",
    "\"\"\"\n",
    "%matplotlib inline\n",
    "%config InlineBackend.figure_format = 'retina'\n",
    "\n",
    "import tensorflow as tf\n",
    "import pickle\n",
    "import helper\n",
    "import random\n",
    "\n",
    "# Set batch size if not already set\n",
    "try:\n",
    "    if batch_size:\n",
    "        pass\n",
    "except NameError:\n",
    "    batch_size = 64\n",
    "\n",
    "save_model_path = './image_classification'\n",
    "n_samples = 4\n",
    "top_n_predictions = 3\n",
    "\n",
    "def test_model():\n",
    "    \"\"\"\n",
    "    Test the saved model against the test dataset\n",
    "    \"\"\"\n",
    "\n",
    "    test_features, test_labels = pickle.load(open('preprocess_training.p', mode='rb'))\n",
    "    loaded_graph = tf.Graph()\n",
    "\n",
    "    with tf.Session(graph=loaded_graph) as sess:\n",
    "        # Load model\n",
    "        loader = tf.train.import_meta_graph(save_model_path + '.meta')\n",
    "        loader.restore(sess, save_model_path)\n",
    "\n",
    "        # Get Tensors from loaded model\n",
    "        loaded_x = loaded_graph.get_tensor_by_name('x:0')\n",
    "        loaded_y = loaded_graph.get_tensor_by_name('y:0')\n",
    "        loaded_keep_prob = loaded_graph.get_tensor_by_name('keep_prob:0')\n",
    "        loaded_logits = loaded_graph.get_tensor_by_name('logits:0')\n",
    "        loaded_acc = loaded_graph.get_tensor_by_name('accuracy:0')\n",
    "        \n",
    "        # Get accuracy in batches for memory limitations\n",
    "        test_batch_acc_total = 0\n",
    "        test_batch_count = 0\n",
    "        \n",
    "        for train_feature_batch, train_label_batch in helper.batch_features_labels(test_features, test_labels, batch_size):\n",
    "            test_batch_acc_total += sess.run(\n",
    "                loaded_acc,\n",
    "                feed_dict={loaded_x: train_feature_batch, loaded_y: train_label_batch, loaded_keep_prob: 1.0})\n",
    "            test_batch_count += 1\n",
    "\n",
    "        print('Testing Accuracy: {0: >6.2f}pct\\n'.format(100*test_batch_acc_total/test_batch_count))\n",
    "\n",
    "        # Print Random Samples\n",
    "        random_test_features, random_test_labels = tuple(zip(*random.sample(list(zip(test_features, test_labels)), n_samples)))\n",
    "        random_test_predictions = sess.run(\n",
    "            tf.nn.top_k(tf.nn.softmax(loaded_logits), top_n_predictions),\n",
    "            feed_dict={loaded_x: random_test_features, loaded_y: random_test_labels, loaded_keep_prob: 1.0})\n",
    "        helper.display_image_predictions(random_test_features, random_test_labels, random_test_predictions)\n",
    "\n",
    "\n",
    "test_model()"
   ]
  },
  {
   "cell_type": "markdown",
   "metadata": {
    "deletable": true,
    "editable": true
   },
   "source": [
    "## Why 50-70% Accuracy?\n",
    "You might be wondering why you can't get an accuracy any higher. First things first, 50% isn't bad for a simple CNN.  Pure guessing would get you 10% accuracy. However, you might notice people are getting scores [well above 70%](http://rodrigob.github.io/are_we_there_yet/build/classification_datasets_results.html#43494641522d3130).  That's because we haven't taught you all there is to know about neural networks. We still need to cover a few more techniques.\n",
    "## Submitting This Project\n",
    "When submitting this project, make sure to run all the cells before saving the notebook.  Save the notebook file as \"dlnd_image_classification.ipynb\" and save it as a HTML file under \"File\" -> \"Download as\".  Include the \"helper.py\" and \"problem_unittests.py\" files in your submission."
   ]
  },
  {
   "cell_type": "code",
   "execution_count": null,
   "metadata": {
    "collapsed": true,
    "deletable": true,
    "editable": true
   },
   "outputs": [],
   "source": []
  }
 ],
 "metadata": {
  "kernelspec": {
   "display_name": "Python 3",
   "language": "python",
   "name": "python3"
  },
  "language_info": {
   "codemirror_mode": {
    "name": "ipython",
    "version": 3
   },
   "file_extension": ".py",
   "mimetype": "text/x-python",
   "name": "python",
   "nbconvert_exporter": "python",
   "pygments_lexer": "ipython3",
   "version": "3.5.2"
  },
  "widgets": {
   "state": {},
   "version": "1.1.2"
  }
 },
 "nbformat": 4,
 "nbformat_minor": 0
}
